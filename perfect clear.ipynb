{
 "cells": [
  {
   "cell_type": "code",
   "execution_count": 1,
   "metadata": {},
   "outputs": [],
   "source": [
    "from PIL import Image, ImageOps\n",
    "import os"
   ]
  },
  {
   "cell_type": "code",
   "execution_count": 2,
   "metadata": {},
   "outputs": [],
   "source": [
    "orders = [(1,2,3),(1,2,0),(1,0,2),(1,0,3),(0,2,3),(0,2,1),(0,1,2),(0,1,3)]"
   ]
  },
  {
   "cell_type": "code",
   "execution_count": 3,
   "metadata": {},
   "outputs": [],
   "source": [
    "itj1 = ['jit','tij','tji','ijt','jti','itj','itj1.PNG']\n",
    "itj2 = ['jit','ijt','itj2.PNG']\n",
    "ilt1 = ['til','itl','tli','itl1.PNG']\n",
    "ilt2 = ['lit','lti','itl2.PNG']\n",
    "tjs1 = ['tjs','tsj','tjs1.PNG']\n",
    "tjs2 = ['jst','tjs2.PNG']\n",
    "ilz1 = ['zil','izl','zli','ilz1.PNG']\n",
    "jsz1 = ['zjs','zsj','jsz1.PNG']\n",
    "jsz2 = ['jzs','jsz2.PNG']\n",
    "ito1 = ['ito','tio','toi','ito1.PNG']\n",
    "ioj1 = ['oij','ioj','oji','ioj1.PNG']\n",
    "ijs1 = ['isj','sij','sji','ijs1.PNG']\n",
    "its1 = ['its','tis','its1.PNG']\n",
    "tlj1 = ['tjl','tlj','tlj1.PNG']\n",
    "tsz1 = ['tsz','tsz1.PNG']\n",
    "tsz2 = ['tzs','tsz2.PNG']\n",
    "toj1 = ['ojt','toj1.PNG']\n",
    "\n",
    "combos = [itj1,itj2,ilt1,ilt2,tjs1,tjs2,ilz1,jsz1,jsz2,ito1,ioj1,ijs1,its1,tlj1,tsz1,tsz2,toj1]\n",
    "\n",
    "#nospin = [ioj1,itj1,itj2,ilt1,ilt2,ito1,tlj1,toj1]"
   ]
  },
  {
   "cell_type": "code",
   "execution_count": 4,
   "metadata": {},
   "outputs": [],
   "source": [
    "def flip(seq):\n",
    "    seq = seq.replace('l','x')\n",
    "    seq = seq.replace('j','l')\n",
    "    seq = seq.replace('x','j')\n",
    "    seq = seq.replace('s','x')\n",
    "    seq = seq.replace('z','s')\n",
    "    seq = seq.replace('x','z')\n",
    "    return seq"
   ]
  },
  {
   "cell_type": "code",
   "execution_count": 5,
   "metadata": {},
   "outputs": [],
   "source": [
    "def solve(p,reverse=False):\n",
    "    \"\"\"\n",
    "    pieces: a 4-letter string, the first is the hold piece, and the next three are the three pieces you have next.\n",
    "    reverse: False if the hook is on the right, True if the hook is on the left.\n",
    "    \n",
    "    Returns images of all possible perfect clear sequences. If reverse is True, the color of some of the blocks \n",
    "    might be wrong.\n",
    "    \"\"\"\n",
    "    flag = 0\n",
    "    \n",
    "    possible = set()\n",
    "    for a, b, c in orders:\n",
    "        possible.add(p[a]+p[b]+p[c])\n",
    "    \n",
    "    if reverse == False:\n",
    "        for seq in possible:\n",
    "            for c in combos:\n",
    "                if seq in c:\n",
    "                    flag = 1\n",
    "                    print(seq)\n",
    "                    image = Image.open(f'pictures/{c[-1]}')\n",
    "                    image = image.resize((394,214))\n",
    "                    display(image)\n",
    "    else:\n",
    "        for seq in possible:\n",
    "            for c in combos:\n",
    "                if flip(seq) in c:\n",
    "                    flag = 1\n",
    "                    print(seq)\n",
    "                    image = Image.open(f'pictures/{c[-1]}')\n",
    "                    image = image.resize((394,214))\n",
    "                    image = ImageOps.mirror(image)\n",
    "                    display(image)\n",
    "        \n",
    "    if flag == 0:\n",
    "        print('YOU ARE FUCKED')\n",
    "    "
   ]
  },
  {
   "cell_type": "code",
   "execution_count": 6,
   "metadata": {
    "scrolled": false
   },
   "outputs": [
    {
     "output_type": "stream",
     "name": "stdout",
     "text": [
      "lit\n"
     ]
    },
    {
     "output_type": "display_data",
     "data": {
      "text/plain": "<PIL.Image.Image image mode=RGBA size=394x214 at 0x1C8D6769CC8>",
      "image/png": "[encoded data removed]"
     },
     "metadata": {}
    },
    {
     "output_type": "stream",
     "name": "stdout",
     "text": [
      "lti\n"
     ]
    },
    {
     "output_type": "display_data",
     "data": {
      "text/plain": "<PIL.Image.Image image mode=RGBA size=394x214 at 0x1C8D8A30C88>",
      "image/png": "[encoded data removed]"
     },
     "metadata": {}
    },
    {
     "output_type": "stream",
     "name": "stdout",
     "text": [
      "itj\n"
     ]
    },
    {
     "output_type": "display_data",
     "data": {
      "text/plain": "<PIL.Image.Image image mode=RGBA size=394x214 at 0x1C8D6769CC8>",
      "image/png": "[encoded data removed]"
     },
     "metadata": {}
    },
    {
     "output_type": "stream",
     "name": "stdout",
     "text": [
      "itl\n"
     ]
    },
    {
     "output_type": "display_data",
     "data": {
      "text/plain": "<PIL.Image.Image image mode=RGBA size=394x214 at 0x1C8D8D27148>",
      "image/png": "[encoded data removed]"
     },
     "metadata": {}
    }
   ],
   "source": [
    "p = input('Enter piece combination \\n')\n",
    "r = input('Is the hook on the right (r) or left (l)?\\n')\n",
    "\n",
    "if r == 'l':\n",
    "    r = True\n",
    "else:\n",
    "    r = False\n",
    "    \n",
    "solve(p, reverse=r)"
   ]
  }
 ],
 "metadata": {
  "kernelspec": {
   "display_name": "Python 3",
   "language": "python",
   "name": "python3"
  },
  "language_info": {
   "codemirror_mode": {
    "name": "ipython",
    "version": 3
   },
   "file_extension": ".py",
   "mimetype": "text/x-python",
   "name": "python",
   "nbconvert_exporter": "python",
   "pygments_lexer": "ipython3",
   "version": "3.7.4-final"
  }
 },
 "nbformat": 4,
 "nbformat_minor": 2
}